{
 "cells": [
  {
   "cell_type": "code",
   "id": "initial_id",
   "metadata": {
    "collapsed": true,
    "ExecuteTime": {
     "end_time": "2025-05-15T08:45:35.341615Z",
     "start_time": "2025-05-15T08:45:35.334533Z"
    }
   },
   "source": [
    "import pandas as pd\n",
    "import numpy as np\n",
    "import matplotlib.pyplot as plt\n",
    "import seaborn as sns\n",
    "from PIL.ImageColor import colormap\n",
    "from sklearn.ensemble import RandomForestClassifier\n",
    "from xgboost import XGBClassifier\n",
    "from sklearn.model_selection import train_test_split, RandomizedSearchCV, GridSearchCV\n",
    "from sklearn.impute import SimpleImputer\n",
    "from sklearn.preprocessing import StandardScaler, OneHotEncoder\n",
    "from category_encoders import TargetEncoder\n",
    "from sklearn.compose import ColumnTransformer, TransformedTargetRegressor\n",
    "from sklearn.pipeline import Pipeline\n",
    "import mlflow\n",
    "import mlflow.sklearn\n",
    "from sklearn.metrics import mean_absolute_error, mean_squared_log_error, make_scorer, mean_squared_error, r2_score\n",
    "from sklearn.metrics import (\n",
    "    accuracy_score,\n",
    "    precision_score,\n",
    "    recall_score,\n",
    "    f1_score,\n",
    "    roc_auc_score,\n",
    "    confusion_matrix,\n",
    "    ConfusionMatrixDisplay\n",
    ")\n",
    "from sklearn.metrics import precision_recall_curve\n",
    "from imblearn.over_sampling import RandomOverSampler, SMOTENC\n",
    "from imblearn.pipeline import Pipeline as ImbPipeline\n",
    "from collections import Counter\n"
   ],
   "outputs": [],
   "execution_count": 509
  },
  {
   "metadata": {
    "ExecuteTime": {
     "end_time": "2025-05-15T08:45:35.465956Z",
     "start_time": "2025-05-15T08:45:35.400031Z"
    }
   },
   "cell_type": "code",
   "source": [
    "mlflow.set_tracking_uri(\"http://127.0.0.1:5000\")\n",
    "mlflow.set_experiment(\"part-2 | Spotify | begin\")\n",
    "mlflow.sklearn.autolog()"
   ],
   "id": "60542f8bdc6e7740",
   "outputs": [],
   "execution_count": 510
  },
  {
   "metadata": {
    "ExecuteTime": {
     "end_time": "2025-05-15T08:45:36.857467Z",
     "start_time": "2025-05-15T08:45:35.506689Z"
    }
   },
   "cell_type": "code",
   "source": [
    "df = pd.read_csv('data/spotify_data.csv')\n",
    "df = df[df['year'] != 2023]\n",
    "df = df[df['popularity'] != 0]"
   ],
   "id": "24678524a2cc0dfc",
   "outputs": [],
   "execution_count": 511
  },
  {
   "metadata": {
    "ExecuteTime": {
     "end_time": "2025-05-15T08:45:36.901319Z",
     "start_time": "2025-05-15T08:45:36.897296Z"
    }
   },
   "cell_type": "code",
   "source": [
    "df['is_pop'] = df['popularity'] > 50\n",
    "df['duration'] = df['duration_ms'] / 60\n",
    "# df['pop_temp'] = (df['tempo'] >= 80) & (df['tempo'] <= 140)"
   ],
   "id": "deb2768d7fcdc962",
   "outputs": [],
   "execution_count": 512
  },
  {
   "metadata": {
    "ExecuteTime": {
     "end_time": "2025-05-15T08:45:36.949580Z",
     "start_time": "2025-05-15T08:45:36.947829Z"
    }
   },
   "cell_type": "code",
   "source": "include = ['danceability','loudness', 'speechiness', 'acousticness', 'instrumentalness', 'liveness', 'valence', 'tempo', 'duration', 'year', 'genre', 'key', 'time_signature', 'mode']",
   "id": "b1a6e987c2238985",
   "outputs": [],
   "execution_count": 513
  },
  {
   "metadata": {
    "ExecuteTime": {
     "end_time": "2025-05-15T08:45:36.998980Z",
     "start_time": "2025-05-15T08:45:36.997459Z"
    }
   },
   "cell_type": "code",
   "source": "numerical = ['tempo', 'duration', 'energy', 'loudness', 'speechiness', 'acousticness', 'instrumentalness', 'liveness', 'valence']",
   "id": "96f14f9e5e06bc7c",
   "outputs": [],
   "execution_count": 514
  },
  {
   "metadata": {
    "ExecuteTime": {
     "end_time": "2025-05-15T08:45:37.046571Z",
     "start_time": "2025-05-15T08:45:37.044911Z"
    }
   },
   "cell_type": "code",
   "source": "categorical = ['genre','key', 'time_signature', 'mode']",
   "id": "f8db2047002e7297",
   "outputs": [],
   "execution_count": 515
  },
  {
   "metadata": {
    "ExecuteTime": {
     "end_time": "2025-05-15T08:45:37.195219Z",
     "start_time": "2025-05-15T08:45:37.091267Z"
    }
   },
   "cell_type": "code",
   "source": [
    "X = df[numerical + categorical]\n",
    "y = df['is_pop']\n",
    "X = X.astype({col: 'float64' for col in X.select_dtypes(include='int').columns})\n",
    "X_train, X_test, y_train, y_test = train_test_split(X, y, test_size=0.2, random_state=42)\n",
    "input_example = X_train.iloc[:1]"
   ],
   "id": "3a014c7bead16831",
   "outputs": [],
   "execution_count": 516
  },
  {
   "metadata": {
    "ExecuteTime": {
     "end_time": "2025-05-15T08:45:37.236174Z",
     "start_time": "2025-05-15T08:45:37.234612Z"
    }
   },
   "cell_type": "code",
   "source": [
    "numerical_pipeline = Pipeline([\n",
    "    ('imputer', SimpleImputer(strategy='median')),\n",
    "    ('scaler', StandardScaler())\n",
    "])\n",
    "\n",
    "categorical_pipeline = Pipeline([\n",
    "    ('imputer', SimpleImputer(strategy='most_frequent')),\n",
    "    ('encoder', OneHotEncoder(handle_unknown='ignore'))\n",
    "])\n",
    "\n",
    "ct = ColumnTransformer(\n",
    "    transformers=[\n",
    "        ('num', numerical_pipeline, numerical),\n",
    "        ('cat', categorical_pipeline, categorical),\n",
    "    ],\n",
    "    remainder = 'passthrough'\n",
    ")"
   ],
   "id": "c14db3f13a66880e",
   "outputs": [],
   "execution_count": 517
  },
  {
   "metadata": {
    "ExecuteTime": {
     "end_time": "2025-05-15T08:45:37.287771Z",
     "start_time": "2025-05-15T08:45:37.285700Z"
    }
   },
   "cell_type": "code",
   "source": [
    "param_grid = {\n",
    "    'estimator__n_estimators': [100, 200],              # Reasonable trees\n",
    "    'estimator__max_depth': [3, 5, 7],                  # Low to moderate complexity\n",
    "    'estimator__learning_rate': [0.01, 0.1],            # Small and standard learning rates\n",
    "    'estimator__subsample': [0.8, 1.0],                 # Slight regularization via sampling\n",
    "    'estimator__colsample_bytree': [0.5, 0.8],          # Reduce overfitting\n",
    "    'estimator__scale_pos_weight': [3, 5, 7],           # Tackle class imbalance\n",
    "    'estimator__reg_alpha': [0, 1],                     # L1 regularization (sparse)\n",
    "    'estimator__reg_lambda': [1, 10],\n",
    "}"
   ],
   "id": "31627ff929114b7",
   "outputs": [],
   "execution_count": 518
  },
  {
   "metadata": {
    "ExecuteTime": {
     "end_time": "2025-05-15T08:45:37.341623Z",
     "start_time": "2025-05-15T08:45:37.339533Z"
    }
   },
   "cell_type": "code",
   "source": [
    "pipeline = Pipeline([\n",
    "    ('ct', ct),\n",
    "    # ('ros', RandomOverSampler(random_state=42)),\n",
    "    ('estimator', XGBClassifier()),\n",
    "    # ('estimator', XGBClassifier(subsample=0.8, learning_rate=0.1, n_estimators=500, reg_alpha=1, max_depth=7, colsample_bytree=0.6,reg_lambda=10, gamma=0, scale_pos_weight=5)),\n",
    "])"
   ],
   "id": "ae57e801ab832d05",
   "outputs": [],
   "execution_count": 519
  },
  {
   "metadata": {
    "ExecuteTime": {
     "end_time": "2025-05-15T08:45:37.393394Z",
     "start_time": "2025-05-15T08:45:37.391161Z"
    }
   },
   "cell_type": "code",
   "source": [
    "model = RandomizedSearchCV(estimator=pipeline, param_distributions=param_grid, n_iter=50, scoring=\"f1\", cv=5, verbose=2, random_state=42, n_jobs=-1)\n",
    "# model = GridSearchCV(estimator=pipeline, scoring='average_precision', param_grid=param_grid, n_jobs=-1, cv=5, verbose=2)\n",
    "# model = pipeline"
   ],
   "id": "a61fd7bd57aea2da",
   "outputs": [],
   "execution_count": 520
  },
  {
   "metadata": {
    "jupyter": {
     "is_executing": true
    },
    "ExecuteTime": {
     "start_time": "2025-05-15T08:45:37.457432Z"
    }
   },
   "cell_type": "code",
   "source": [
    "with mlflow.start_run() as run:\n",
    "    model.fit(X_train, y_train)\n",
    "    mlflow.sklearn.log_model(sk_model=model.best_estimator_, artifact_path=\"best_model\", input_example=input_example)\n",
    "    model_uri = f\"runs:/{run.info.run_id}/best_model\"\n",
    "    eval_data = X_test.astype({col: 'float64' for col in X_test.select_dtypes(include='int').columns})\n",
    "    eval_data['target'] = y_test\n",
    "    mlflow.evaluate(model=model_uri, model_type='classifier', data=eval_data, targets='target')\n",
    "\n",
    "    y_pred = model.best_estimator_.predict(X_test)\n",
    "    cm = confusion_matrix(y_test, y_pred)\n",
    "    disp = ConfusionMatrixDisplay(confusion_matrix=cm)\n",
    "    disp.plot(cmap='Blues')\n",
    "    plt.title(\"Confusion Matrix\")\n",
    "    plt.savefig(\"nonnormal_confusion_matrix.png\")\n",
    "    mlflow.log_artifact(\"nonnormal_confusion_matrix.png\")\n",
    "    plt.show()"
   ],
   "id": "5232ece0d77d7834",
   "outputs": [
    {
     "name": "stdout",
     "output_type": "stream",
     "text": [
      "Fitting 5 folds for each of 50 candidates, totalling 250 fits\n",
      "[CV] END estimator__colsample_bytree=0.5, estimator__learning_rate=0.1, estimator__max_depth=5, estimator__n_estimators=200, estimator__reg_alpha=1, estimator__reg_lambda=10, estimator__scale_pos_weight=3, estimator__subsample=0.8; total time=  10.6s\n",
      "[CV] END estimator__colsample_bytree=0.8, estimator__learning_rate=0.1, estimator__max_depth=5, estimator__n_estimators=100, estimator__reg_alpha=1, estimator__reg_lambda=10, estimator__scale_pos_weight=3, estimator__subsample=0.8; total time=   6.7s\n",
      "[CV] END estimator__colsample_bytree=0.8, estimator__learning_rate=0.01, estimator__max_depth=7, estimator__n_estimators=100, estimator__reg_alpha=1, estimator__reg_lambda=10, estimator__scale_pos_weight=3, estimator__subsample=0.8; total time=   8.0s\n",
      "[CV] END estimator__colsample_bytree=0.5, estimator__learning_rate=0.1, estimator__max_depth=7, estimator__n_estimators=100, estimator__reg_alpha=1, estimator__reg_lambda=10, estimator__scale_pos_weight=3, estimator__subsample=1.0; total time=   7.6s\n",
      "[CV] END estimator__colsample_bytree=0.5, estimator__learning_rate=0.01, estimator__max_depth=5, estimator__n_estimators=200, estimator__reg_alpha=0, estimator__reg_lambda=10, estimator__scale_pos_weight=7, estimator__subsample=0.8; total time=  11.4s\n",
      "[CV] END estimator__colsample_bytree=0.8, estimator__learning_rate=0.1, estimator__max_depth=3, estimator__n_estimators=100, estimator__reg_alpha=1, estimator__reg_lambda=1, estimator__scale_pos_weight=5, estimator__subsample=1.0; total time=   4.8s\n"
     ]
    },
    {
     "name": "stderr",
     "output_type": "stream",
     "text": [
      "/Users/level3/Desktop/Machine-Learning-part-2/.venv/lib/python3.13/site-packages/joblib/externals/loky/process_executor.py:782: UserWarning: A worker stopped while some jobs were given to the executor. This can be caused by a too short worker timeout or by a memory leak.\n",
      "  warnings.warn(\n"
     ]
    },
    {
     "name": "stdout",
     "output_type": "stream",
     "text": [
      "[CV] END estimator__colsample_bytree=0.5, estimator__learning_rate=0.1, estimator__max_depth=5, estimator__n_estimators=200, estimator__reg_alpha=1, estimator__reg_lambda=10, estimator__scale_pos_weight=3, estimator__subsample=0.8; total time=  11.4s\n",
      "[CV] END estimator__colsample_bytree=0.8, estimator__learning_rate=0.1, estimator__max_depth=5, estimator__n_estimators=100, estimator__reg_alpha=1, estimator__reg_lambda=10, estimator__scale_pos_weight=3, estimator__subsample=0.8; total time=   6.4s\n",
      "[CV] END estimator__colsample_bytree=0.8, estimator__learning_rate=0.01, estimator__max_depth=7, estimator__n_estimators=100, estimator__reg_alpha=1, estimator__reg_lambda=1, estimator__scale_pos_weight=7, estimator__subsample=0.8; total time=   8.7s\n",
      "[CV] END estimator__colsample_bytree=0.5, estimator__learning_rate=0.01, estimator__max_depth=3, estimator__n_estimators=200, estimator__reg_alpha=0, estimator__reg_lambda=1, estimator__scale_pos_weight=7, estimator__subsample=1.0; total time=   7.5s\n",
      "[CV] END estimator__colsample_bytree=0.8, estimator__learning_rate=0.01, estimator__max_depth=5, estimator__n_estimators=200, estimator__reg_alpha=1, estimator__reg_lambda=10, estimator__scale_pos_weight=5, estimator__subsample=0.8; total time=  11.1s\n",
      "[CV] END estimator__colsample_bytree=0.8, estimator__learning_rate=0.1, estimator__max_depth=3, estimator__n_estimators=100, estimator__reg_alpha=1, estimator__reg_lambda=1, estimator__scale_pos_weight=5, estimator__subsample=1.0; total time=   5.3s\n",
      "[CV] END estimator__colsample_bytree=0.5, estimator__learning_rate=0.1, estimator__max_depth=5, estimator__n_estimators=200, estimator__reg_alpha=1, estimator__reg_lambda=10, estimator__scale_pos_weight=3, estimator__subsample=0.8; total time=  10.7s\n",
      "[CV] END estimator__colsample_bytree=0.8, estimator__learning_rate=0.1, estimator__max_depth=5, estimator__n_estimators=100, estimator__reg_alpha=1, estimator__reg_lambda=10, estimator__scale_pos_weight=3, estimator__subsample=0.8; total time=   6.7s\n",
      "[CV] END estimator__colsample_bytree=0.8, estimator__learning_rate=0.01, estimator__max_depth=7, estimator__n_estimators=100, estimator__reg_alpha=1, estimator__reg_lambda=1, estimator__scale_pos_weight=7, estimator__subsample=0.8; total time=   8.7s\n",
      "[CV] END estimator__colsample_bytree=0.5, estimator__learning_rate=0.01, estimator__max_depth=3, estimator__n_estimators=200, estimator__reg_alpha=0, estimator__reg_lambda=1, estimator__scale_pos_weight=7, estimator__subsample=1.0; total time=   7.9s\n",
      "[CV] END estimator__colsample_bytree=0.8, estimator__learning_rate=0.01, estimator__max_depth=5, estimator__n_estimators=200, estimator__reg_alpha=1, estimator__reg_lambda=10, estimator__scale_pos_weight=5, estimator__subsample=0.8; total time=  11.3s\n",
      "[CV] END estimator__colsample_bytree=0.8, estimator__learning_rate=0.1, estimator__max_depth=3, estimator__n_estimators=100, estimator__reg_alpha=1, estimator__reg_lambda=1, estimator__scale_pos_weight=5, estimator__subsample=1.0; total time=   5.2s\n",
      "[CV] END estimator__colsample_bytree=0.5, estimator__learning_rate=0.1, estimator__max_depth=5, estimator__n_estimators=200, estimator__reg_alpha=1, estimator__reg_lambda=10, estimator__scale_pos_weight=3, estimator__subsample=0.8; total time=  11.0s\n",
      "[CV] END estimator__colsample_bytree=0.8, estimator__learning_rate=0.1, estimator__max_depth=5, estimator__n_estimators=100, estimator__reg_alpha=1, estimator__reg_lambda=10, estimator__scale_pos_weight=3, estimator__subsample=0.8; total time=   6.9s\n",
      "[CV] END estimator__colsample_bytree=0.8, estimator__learning_rate=0.01, estimator__max_depth=7, estimator__n_estimators=100, estimator__reg_alpha=1, estimator__reg_lambda=1, estimator__scale_pos_weight=7, estimator__subsample=0.8; total time=   8.6s\n",
      "[CV] END estimator__colsample_bytree=0.5, estimator__learning_rate=0.01, estimator__max_depth=3, estimator__n_estimators=200, estimator__reg_alpha=0, estimator__reg_lambda=1, estimator__scale_pos_weight=7, estimator__subsample=1.0; total time=   7.8s\n",
      "[CV] END estimator__colsample_bytree=0.8, estimator__learning_rate=0.01, estimator__max_depth=5, estimator__n_estimators=200, estimator__reg_alpha=1, estimator__reg_lambda=10, estimator__scale_pos_weight=5, estimator__subsample=0.8; total time=  11.3s\n",
      "[CV] END estimator__colsample_bytree=0.8, estimator__learning_rate=0.1, estimator__max_depth=3, estimator__n_estimators=100, estimator__reg_alpha=1, estimator__reg_lambda=1, estimator__scale_pos_weight=5, estimator__subsample=1.0; total time=   5.2s\n",
      "[CV] END estimator__colsample_bytree=0.5, estimator__learning_rate=0.1, estimator__max_depth=7, estimator__n_estimators=200, estimator__reg_alpha=1, estimator__reg_lambda=1, estimator__scale_pos_weight=7, estimator__subsample=1.0; total time=  12.1s\n",
      "[CV] END estimator__colsample_bytree=0.5, estimator__learning_rate=0.1, estimator__max_depth=3, estimator__n_estimators=100, estimator__reg_alpha=1, estimator__reg_lambda=10, estimator__scale_pos_weight=7, estimator__subsample=1.0; total time=   5.3s\n",
      "[CV] END estimator__colsample_bytree=0.5, estimator__learning_rate=0.1, estimator__max_depth=7, estimator__n_estimators=200, estimator__reg_alpha=1, estimator__reg_lambda=1, estimator__scale_pos_weight=7, estimator__subsample=1.0; total time=  12.1s\n",
      "[CV] END estimator__colsample_bytree=0.5, estimator__learning_rate=0.1, estimator__max_depth=3, estimator__n_estimators=100, estimator__reg_alpha=1, estimator__reg_lambda=10, estimator__scale_pos_weight=7, estimator__subsample=1.0; total time=   5.4s\n",
      "[CV] END estimator__colsample_bytree=0.5, estimator__learning_rate=0.01, estimator__max_depth=5, estimator__n_estimators=100, estimator__reg_alpha=0, estimator__reg_lambda=10, estimator__scale_pos_weight=3, estimator__subsample=1.0; total time=   7.1s\n"
     ]
    }
   ],
   "execution_count": null
  },
  {
   "metadata": {
    "ExecuteTime": {
     "end_time": "2025-05-15T08:41:59.953090Z",
     "start_time": "2025-05-15T08:39:13.231583Z"
    }
   },
   "cell_type": "code",
   "source": [
    "    # # print('Best Parameters:', model.best_params_)\n",
    "    # # print('Best CV score:', model.best_score_)\n",
    "    #\n",
    "    # # mlflow.log_params(model.best_params_)\n",
    "    # # mlflow.sklearn.log_model(model.best_estimator_, \"best_model\", input_example=input_example)\n",
    "    #\n",
    "    # # Get predicted probabilities for the positive class\n",
    "    # y_proba = model.predict_proba(X_test)[:, 1]\n",
    "    #\n",
    "    # # Compute precision, recall, thresholds\n",
    "    # precision, recall, thresholds = precision_recall_curve(y_test, y_proba)\n",
    "    #\n",
    "    # # Calculate F1 scores at each threshold\n",
    "    # f1_scores = 2 * (precision * recall) / (precision + recall + 1e-6)  # Add epsilon to avoid divide-by-zero\n",
    "    # best_threshold = thresholds[np.argmax(f1_scores)]\n",
    "    #\n",
    "    # print(\"Best Threshold:\", best_threshold)\n",
    "    #\n",
    "    # y_pred_optimal = (y_proba >= best_threshold).astype(int)\n",
    "    #\n",
    "    # mlflow.log_metric(\"best_threshold\", best_threshold)\n",
    "    # mlflow.log_metric(\"test_f1\", f1_score(y_test, y_pred_optimal))\n",
    "    # mlflow.log_metric(\"test_precision\", precision_score(y_test, y_pred_optimal))\n",
    "    # mlflow.log_metric(\"test_recall\", recall_score(y_test, y_pred_optimal))\n",
    "    # mlflow.log_metric(\"test_accuracy\", accuracy_score(y_test, y_pred_optimal))\n",
    "    # mlflow.log_metric(\"test_roc_auc\", roc_auc_score(y_test, y_proba))\n",
    "    #\n",
    "    # cm = confusion_matrix(y_test, y_pred_optimal)\n",
    "    # disp = ConfusionMatrixDisplay(confusion_matrix=cm)\n",
    "    # disp.plot(cmap='Blues')\n",
    "    # plt.title(\"Confusion Matrix\")\n",
    "    # plt.savefig(\"confusion_matrix.png\")\n",
    "    # mlflow.log_artifact(\"confusion_matrix.png\")\n",
    "    # plt.show()"
   ],
   "id": "85a835d2c576f963",
   "outputs": [],
   "execution_count": 505
  }
 ],
 "metadata": {
  "kernelspec": {
   "display_name": "Python 3",
   "language": "python",
   "name": "python3"
  },
  "language_info": {
   "codemirror_mode": {
    "name": "ipython",
    "version": 2
   },
   "file_extension": ".py",
   "mimetype": "text/x-python",
   "name": "python",
   "nbconvert_exporter": "python",
   "pygments_lexer": "ipython2",
   "version": "2.7.6"
  }
 },
 "nbformat": 4,
 "nbformat_minor": 5
}
